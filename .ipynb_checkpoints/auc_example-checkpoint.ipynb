{
 "cells": [
  {
   "cell_type": "code",
   "execution_count": 158,
   "metadata": {},
   "outputs": [],
   "source": [
    "# notebook for demonstration profit incr \n",
    "# http://blog.mldb.ai/blog/posts/2016/01/ml-meets-economics/\n",
    "# https://www.wordstream.com/blog/ws/2014/05/12/customer-churn"
   ]
  },
  {
   "cell_type": "code",
   "execution_count": 159,
   "metadata": {},
   "outputs": [],
   "source": [
    "import pandas as pd \n",
    "import numpy as np\n",
    "import lightgbm as lgb\n",
    "from matplotlib import pyplot as plt \n",
    "from tqdm import tqdm "
   ]
  },
  {
   "cell_type": "code",
   "execution_count": 160,
   "metadata": {},
   "outputs": [],
   "source": [
    "from sklearn.datasets import make_classification\n",
    "from sklearn.model_selection import train_test_split\n",
    "X, y = make_classification(n_samples=50000, \n",
    "                           n_features=20, \n",
    "                           weights = [0.95, 0.05],\n",
    "                           n_informative=15,\n",
    "                           flip_y=0.00, \n",
    "                           class_sep=0.01,\n",
    "                           random_state=42,\n",
    "                           )\n",
    "X_train, X_test, y_train, y_test = train_test_split(X, y, test_size=0.25, random_state=4242)"
   ]
  },
  {
   "cell_type": "code",
   "execution_count": 161,
   "metadata": {},
   "outputs": [
    {
     "data": {
      "text/plain": [
       "0.05"
      ]
     },
     "execution_count": 161,
     "metadata": {},
     "output_type": "execute_result"
    }
   ],
   "source": [
    "np.mean(y)"
   ]
  },
  {
   "cell_type": "code",
   "execution_count": 162,
   "metadata": {},
   "outputs": [],
   "source": [
    "from sklearn.metrics import roc_auc_score, log_loss, accuracy_score"
   ]
  },
  {
   "cell_type": "code",
   "execution_count": 163,
   "metadata": {},
   "outputs": [],
   "source": [
    "classifier_boost = lgb.LGBMClassifier(boosting_type='gbdt', learning_rate=0.05, class_weight='balanced',\n",
    "                                          n_estimators=100, random_state=42)\n",
    "classifier_boost.fit(X_train, y_train)\n",
    "y_hat_litle_trees = classifier_boost.predict_proba(X_test)[:,1]"
   ]
  },
  {
   "cell_type": "code",
   "execution_count": 164,
   "metadata": {},
   "outputs": [
    {
     "data": {
      "text/plain": [
       "0.9327303726882497"
      ]
     },
     "execution_count": 164,
     "metadata": {},
     "output_type": "execute_result"
    }
   ],
   "source": [
    "roc_auc_score(y_test, y_hat_litle_trees)"
   ]
  },
  {
   "cell_type": "code",
   "execution_count": 165,
   "metadata": {},
   "outputs": [
    {
     "data": {
      "text/plain": [
       "0.9429139754750537"
      ]
     },
     "execution_count": 165,
     "metadata": {},
     "output_type": "execute_result"
    }
   ],
   "source": [
    "classifier_boost = lgb.LGBMClassifier(boosting_type='gbdt', learning_rate=0.1, \n",
    "                                          n_estimators=100, random_state=42, )\n",
    "classifier_boost.fit(X_train, y_train)\n",
    "y_hat_norm_trees = classifier_boost.predict_proba(X_test)[:,1]\n",
    "roc_auc_score(y_test, y_hat_norm_trees)"
   ]
  },
  {
   "cell_type": "code",
   "execution_count": null,
   "metadata": {},
   "outputs": [],
   "source": []
  },
  {
   "cell_type": "code",
   "execution_count": 111,
   "metadata": {},
   "outputs": [],
   "source": [
    "# custom metric \n",
    "const_utility = -48\n",
    "def utility(preds, dtrain):\n",
    "    labels = dtrain.get_label()\n",
    "    preds = preds\n",
    "    \n",
    "    fpr, tpr, thresholds = roc_curve(labels, preds)\n",
    "    roc_auc0 = auc(fpr, tpr)\n",
    "    EV = EV_calc(tpr, fpr, thresholds, churn_fraction)\n",
    "    EV = np.max(EV)\n",
    "    return 'utility', EV-const_utility, True"
   ]
  },
  {
   "cell_type": "code",
   "execution_count": 113,
   "metadata": {
    "scrolled": true
   },
   "outputs": [
    {
     "name": "stdout",
     "output_type": "stream",
     "text": [
      "[25]\tcv_agg's auc: 0.772313 + 0.0152321\tcv_agg's utility: -44.6777 + 8.2331\n",
      "[50]\tcv_agg's auc: 0.802982 + 0.0133452\tcv_agg's utility: -34.7153 + 7.01881\n",
      "[75]\tcv_agg's auc: 0.845338 + 0.007435\tcv_agg's utility: -19.4848 + 1.31337\n",
      "[100]\tcv_agg's auc: 0.861171 + 0.0122266\tcv_agg's utility: -16.031 + 2.52584\n",
      "[125]\tcv_agg's auc: 0.873906 + 0.0111846\tcv_agg's utility: -12.6585 + 2.82661\n",
      "[150]\tcv_agg's auc: 0.884447 + 0.0123606\tcv_agg's utility: -11.1735 + 3.20318\n",
      "[175]\tcv_agg's auc: 0.894513 + 0.0122212\tcv_agg's utility: -8.65618 + 3.4126\n",
      "[200]\tcv_agg's auc: 0.903405 + 0.0110935\tcv_agg's utility: -6.49872 + 2.79267\n",
      "[225]\tcv_agg's auc: 0.911894 + 0.00963449\tcv_agg's utility: -3.9991 + 2.50963\n",
      "[250]\tcv_agg's auc: 0.919072 + 0.00760967\tcv_agg's utility: -1.36248 + 2.51081\n",
      "[275]\tcv_agg's auc: 0.923765 + 0.00617005\tcv_agg's utility: -0.0103725 + 1.98299\n",
      "[300]\tcv_agg's auc: 0.928156 + 0.00596144\tcv_agg's utility: 1.69472 + 2.28952\n",
      "[325]\tcv_agg's auc: 0.931584 + 0.00535519\tcv_agg's utility: 2.96439 + 2.04178\n",
      "[350]\tcv_agg's auc: 0.934136 + 0.00505726\tcv_agg's utility: 3.65438 + 1.88337\n",
      "[375]\tcv_agg's auc: 0.936335 + 0.00534153\tcv_agg's utility: 4.33918 + 2.19332\n",
      "[400]\tcv_agg's auc: 0.938088 + 0.00525934\tcv_agg's utility: 4.87228 + 2.47618\n",
      "[425]\tcv_agg's auc: 0.939648 + 0.00526369\tcv_agg's utility: 5.42995 + 2.51059\n",
      "[450]\tcv_agg's auc: 0.94115 + 0.00517445\tcv_agg's utility: 6.01106 + 2.6984\n",
      "[475]\tcv_agg's auc: 0.942547 + 0.00468677\tcv_agg's utility: 6.74909 + 2.70617\n",
      "[500]\tcv_agg's auc: 0.943958 + 0.00443955\tcv_agg's utility: 7.40001 + 2.07234\n",
      "[525]\tcv_agg's auc: 0.945146 + 0.00423201\tcv_agg's utility: 7.89216 + 2.16784\n",
      "[550]\tcv_agg's auc: 0.94615 + 0.00434082\tcv_agg's utility: 8.24821 + 2.06125\n"
     ]
    },
    {
     "ename": "KeyboardInterrupt",
     "evalue": "",
     "output_type": "error",
     "traceback": [
      "\u001b[1;31m---------------------------------------------------------------------------\u001b[0m",
      "\u001b[1;31mKeyboardInterrupt\u001b[0m                         Traceback (most recent call last)",
      "\u001b[1;32m<ipython-input-113-5e7a340a930d>\u001b[0m in \u001b[0;36m<module>\u001b[1;34m()\u001b[0m\n\u001b[0;32m      8\u001b[0m     \u001b[1;34m'scale_pos_weight'\u001b[0m\u001b[1;33m:\u001b[0m\u001b[1;36m5\u001b[0m\u001b[1;33m\u001b[0m\u001b[0m\n\u001b[0;32m      9\u001b[0m }\n\u001b[1;32m---> 10\u001b[1;33m \u001b[0mlgb\u001b[0m\u001b[1;33m.\u001b[0m\u001b[0mcv\u001b[0m\u001b[1;33m(\u001b[0m\u001b[0mparams\u001b[0m\u001b[1;33m,\u001b[0m \u001b[0mtrain_set\u001b[0m\u001b[1;33m,\u001b[0m \u001b[0mfeval\u001b[0m\u001b[1;33m=\u001b[0m\u001b[0mutility\u001b[0m\u001b[1;33m,\u001b[0m \u001b[0mverbose_eval\u001b[0m\u001b[1;33m=\u001b[0m\u001b[1;36m25\u001b[0m\u001b[1;33m,\u001b[0m \u001b[0mnum_boost_round\u001b[0m\u001b[1;33m=\u001b[0m\u001b[1;36m999999\u001b[0m\u001b[1;33m)\u001b[0m\u001b[1;33m\u001b[0m\u001b[0m\n\u001b[0m",
      "\u001b[1;32m~\\Anaconda3\\envs\\tf\\lib\\site-packages\\lightgbm\\engine.py\u001b[0m in \u001b[0;36mcv\u001b[1;34m(params, train_set, num_boost_round, folds, nfold, stratified, shuffle, metrics, fobj, feval, init_model, feature_name, categorical_feature, early_stopping_rounds, fpreproc, verbose_eval, show_stdv, seed, callbacks)\u001b[0m\n\u001b[0;32m    446\u001b[0m                                     evaluation_result_list=None))\n\u001b[0;32m    447\u001b[0m         \u001b[0mcvfolds\u001b[0m\u001b[1;33m.\u001b[0m\u001b[0mupdate\u001b[0m\u001b[1;33m(\u001b[0m\u001b[0mfobj\u001b[0m\u001b[1;33m=\u001b[0m\u001b[0mfobj\u001b[0m\u001b[1;33m)\u001b[0m\u001b[1;33m\u001b[0m\u001b[0m\n\u001b[1;32m--> 448\u001b[1;33m         \u001b[0mres\u001b[0m \u001b[1;33m=\u001b[0m \u001b[0m_agg_cv_result\u001b[0m\u001b[1;33m(\u001b[0m\u001b[0mcvfolds\u001b[0m\u001b[1;33m.\u001b[0m\u001b[0meval_valid\u001b[0m\u001b[1;33m(\u001b[0m\u001b[0mfeval\u001b[0m\u001b[1;33m)\u001b[0m\u001b[1;33m)\u001b[0m\u001b[1;33m\u001b[0m\u001b[0m\n\u001b[0m\u001b[0;32m    449\u001b[0m         \u001b[1;32mfor\u001b[0m \u001b[0m_\u001b[0m\u001b[1;33m,\u001b[0m \u001b[0mkey\u001b[0m\u001b[1;33m,\u001b[0m \u001b[0mmean\u001b[0m\u001b[1;33m,\u001b[0m \u001b[0m_\u001b[0m\u001b[1;33m,\u001b[0m \u001b[0mstd\u001b[0m \u001b[1;32min\u001b[0m \u001b[0mres\u001b[0m\u001b[1;33m:\u001b[0m\u001b[1;33m\u001b[0m\u001b[0m\n\u001b[0;32m    450\u001b[0m             \u001b[0mresults\u001b[0m\u001b[1;33m[\u001b[0m\u001b[0mkey\u001b[0m \u001b[1;33m+\u001b[0m \u001b[1;34m'-mean'\u001b[0m\u001b[1;33m]\u001b[0m\u001b[1;33m.\u001b[0m\u001b[0mappend\u001b[0m\u001b[1;33m(\u001b[0m\u001b[0mmean\u001b[0m\u001b[1;33m)\u001b[0m\u001b[1;33m\u001b[0m\u001b[0m\n",
      "\u001b[1;32m~\\Anaconda3\\envs\\tf\\lib\\site-packages\\lightgbm\\engine.py\u001b[0m in \u001b[0;36mhandlerFunction\u001b[1;34m(*args, **kwargs)\u001b[0m\n\u001b[0;32m    244\u001b[0m             \u001b[0mret\u001b[0m \u001b[1;33m=\u001b[0m \u001b[1;33m[\u001b[0m\u001b[1;33m]\u001b[0m\u001b[1;33m\u001b[0m\u001b[0m\n\u001b[0;32m    245\u001b[0m             \u001b[1;32mfor\u001b[0m \u001b[0mbooster\u001b[0m \u001b[1;32min\u001b[0m \u001b[0mself\u001b[0m\u001b[1;33m.\u001b[0m\u001b[0mboosters\u001b[0m\u001b[1;33m:\u001b[0m\u001b[1;33m\u001b[0m\u001b[0m\n\u001b[1;32m--> 246\u001b[1;33m                 \u001b[0mret\u001b[0m\u001b[1;33m.\u001b[0m\u001b[0mappend\u001b[0m\u001b[1;33m(\u001b[0m\u001b[0mgetattr\u001b[0m\u001b[1;33m(\u001b[0m\u001b[0mbooster\u001b[0m\u001b[1;33m,\u001b[0m \u001b[0mname\u001b[0m\u001b[1;33m)\u001b[0m\u001b[1;33m(\u001b[0m\u001b[1;33m*\u001b[0m\u001b[0margs\u001b[0m\u001b[1;33m,\u001b[0m \u001b[1;33m**\u001b[0m\u001b[0mkwargs\u001b[0m\u001b[1;33m)\u001b[0m\u001b[1;33m)\u001b[0m\u001b[1;33m\u001b[0m\u001b[0m\n\u001b[0m\u001b[0;32m    247\u001b[0m             \u001b[1;32mreturn\u001b[0m \u001b[0mret\u001b[0m\u001b[1;33m\u001b[0m\u001b[0m\n\u001b[0;32m    248\u001b[0m         \u001b[1;32mreturn\u001b[0m \u001b[0mhandlerFunction\u001b[0m\u001b[1;33m\u001b[0m\u001b[0m\n",
      "\u001b[1;32m~\\Anaconda3\\envs\\tf\\lib\\site-packages\\lightgbm\\basic.py\u001b[0m in \u001b[0;36meval_valid\u001b[1;34m(self, feval)\u001b[0m\n\u001b[0;32m   1641\u001b[0m             \u001b[0mList\u001b[0m \u001b[1;32mwith\u001b[0m \u001b[0mevaluation\u001b[0m \u001b[0mresults\u001b[0m\u001b[1;33m.\u001b[0m\u001b[1;33m\u001b[0m\u001b[0m\n\u001b[0;32m   1642\u001b[0m         \"\"\"\n\u001b[1;32m-> 1643\u001b[1;33m         return [item for i in range_(1, self.__num_dataset)\n\u001b[0m\u001b[0;32m   1644\u001b[0m                 for item in self.__inner_eval(self.name_valid_sets[i - 1], i, feval)]\n\u001b[0;32m   1645\u001b[0m \u001b[1;33m\u001b[0m\u001b[0m\n",
      "\u001b[1;32m~\\Anaconda3\\envs\\tf\\lib\\site-packages\\lightgbm\\basic.py\u001b[0m in \u001b[0;36m<listcomp>\u001b[1;34m(.0)\u001b[0m\n\u001b[0;32m   1642\u001b[0m         \"\"\"\n\u001b[0;32m   1643\u001b[0m         return [item for i in range_(1, self.__num_dataset)\n\u001b[1;32m-> 1644\u001b[1;33m                 for item in self.__inner_eval(self.name_valid_sets[i - 1], i, feval)]\n\u001b[0m\u001b[0;32m   1645\u001b[0m \u001b[1;33m\u001b[0m\u001b[0m\n\u001b[0;32m   1646\u001b[0m     \u001b[1;32mdef\u001b[0m \u001b[0msave_model\u001b[0m\u001b[1;33m(\u001b[0m\u001b[0mself\u001b[0m\u001b[1;33m,\u001b[0m \u001b[0mfilename\u001b[0m\u001b[1;33m,\u001b[0m \u001b[0mnum_iteration\u001b[0m\u001b[1;33m=\u001b[0m\u001b[1;33m-\u001b[0m\u001b[1;36m1\u001b[0m\u001b[1;33m)\u001b[0m\u001b[1;33m:\u001b[0m\u001b[1;33m\u001b[0m\u001b[0m\n",
      "\u001b[1;32m~\\Anaconda3\\envs\\tf\\lib\\site-packages\\lightgbm\\basic.py\u001b[0m in \u001b[0;36m__inner_eval\u001b[1;34m(self, data_name, data_idx, feval)\u001b[0m\n\u001b[0;32m   1896\u001b[0m                 \u001b[0mctypes\u001b[0m\u001b[1;33m.\u001b[0m\u001b[0mc_int\u001b[0m\u001b[1;33m(\u001b[0m\u001b[0mdata_idx\u001b[0m\u001b[1;33m)\u001b[0m\u001b[1;33m,\u001b[0m\u001b[1;33m\u001b[0m\u001b[0m\n\u001b[0;32m   1897\u001b[0m                 \u001b[0mctypes\u001b[0m\u001b[1;33m.\u001b[0m\u001b[0mbyref\u001b[0m\u001b[1;33m(\u001b[0m\u001b[0mtmp_out_len\u001b[0m\u001b[1;33m)\u001b[0m\u001b[1;33m,\u001b[0m\u001b[1;33m\u001b[0m\u001b[0m\n\u001b[1;32m-> 1898\u001b[1;33m                 result.ctypes.data_as(ctypes.POINTER(ctypes.c_double))))\n\u001b[0m\u001b[0;32m   1899\u001b[0m             \u001b[1;32mif\u001b[0m \u001b[0mtmp_out_len\u001b[0m\u001b[1;33m.\u001b[0m\u001b[0mvalue\u001b[0m \u001b[1;33m!=\u001b[0m \u001b[0mself\u001b[0m\u001b[1;33m.\u001b[0m\u001b[0m__num_inner_eval\u001b[0m\u001b[1;33m:\u001b[0m\u001b[1;33m\u001b[0m\u001b[0m\n\u001b[0;32m   1900\u001b[0m                 \u001b[1;32mraise\u001b[0m \u001b[0mValueError\u001b[0m\u001b[1;33m(\u001b[0m\u001b[1;34m\"Wrong length of eval results\"\u001b[0m\u001b[1;33m)\u001b[0m\u001b[1;33m\u001b[0m\u001b[0m\n",
      "\u001b[1;31mKeyboardInterrupt\u001b[0m: "
     ]
    }
   ],
   "source": [
    "train_set = lgb.Dataset(X_train, y_train)\n",
    "params = {\n",
    "    'objective':'binary', \n",
    "    'metric': 'AUC',\n",
    "    'learning_rate': 0.01, \n",
    "    'random_state':4242442,\n",
    "    'verbose_eval': 0,\n",
    "    'scale_pos_weight':5\n",
    "}\n",
    "lgb.cv(params, train_set, feval=utility, verbose_eval=25, num_boost_round=999999)"
   ]
  },
  {
   "cell_type": "code",
   "execution_count": 114,
   "metadata": {},
   "outputs": [
    {
     "data": {
      "text/plain": [
       "0.9589981412390848"
      ]
     },
     "execution_count": 114,
     "metadata": {},
     "output_type": "execute_result"
    }
   ],
   "source": [
    "params['n_estimators'] = 1500\n",
    "classifier_boost = lgb.LGBMClassifier(**params)\n",
    "classifier_boost.fit(X_train, y_train)\n",
    "y_hat_norm_trees = classifier_boost.predict_proba(X_test)[:,1]\n",
    "roc_auc_score(y_test, y_hat_norm_trees)"
   ]
  },
  {
   "cell_type": "markdown",
   "metadata": {},
   "source": [
    "## plot "
   ]
  },
  {
   "cell_type": "code",
   "execution_count": 166,
   "metadata": {},
   "outputs": [],
   "source": [
    "from sklearn.metrics import roc_curve, auc"
   ]
  },
  {
   "cell_type": "code",
   "execution_count": 167,
   "metadata": {},
   "outputs": [
    {
     "data": {
      "image/png": "[encoded data removed]",
      "text/plain": [
       "<Figure size 432x288 with 1 Axes>"
      ]
     },
     "metadata": {},
     "output_type": "display_data"
    }
   ],
   "source": [
    "# Compute ROC curve and ROC area for each class\n",
    "fpr = dict()\n",
    "tpr = dict()\n",
    "roc_auc = dict()\n",
    "n_classes=1\n",
    "\n",
    "plt.figure()\n",
    "lw = 2\n",
    "\n",
    "##############################################################################\n",
    "# Plot of a ROC curve for a specific class\n",
    "fpr0, tpr0, thresholds0 = roc_curve(y_test, y_hat_norm_trees)\n",
    "roc_auc0 = auc(fpr0, tpr0)\n",
    "plt.plot(fpr0, tpr0, lw=lw, label='ROC0 curve (area = %0.2f)' % roc_auc0)\n",
    "\n",
    "fpr1, tpr1, thresholds1 = roc_curve(y_test, y_hat_litle_trees)\n",
    "roc_auc1 = auc(fpr1, tpr1)\n",
    "plt.plot(fpr1, tpr1, lw=lw, label='ROC1 curve (area = %0.2f)' % roc_auc1)\n",
    "\n",
    "##############################################################################\n",
    "\n",
    "plt.plot([0, 1], [0, 1], color='navy', lw=lw, linestyle='--')\n",
    "plt.xlim([0.0, 1.0])\n",
    "plt.ylim([0.0, 1.05])\n",
    "plt.xlabel('False Positive Rate')\n",
    "plt.ylabel('True Positive Rate')\n",
    "plt.title('ROC - AUC')\n",
    "plt.legend(loc=\"lower right\")\n",
    "plt.show()"
   ]
  },
  {
   "cell_type": "markdown",
   "metadata": {},
   "source": [
    "## utility calculation "
   ]
  },
  {
   "cell_type": "markdown",
   "metadata": {},
   "source": [
    "1 - Churn; 0 - Not churn\n",
    "\n",
    "|   | Churn  | Not churn  | \n",
    "|---|---|---|\n",
    "| Positive prediction  |  True positive |  False positive | \n",
    "| Negative prediction  | False negative  | True negative  | \n",
    "\n",
    "___\n",
    "\n",
    "Удержание пользователя - 200 уе\n",
    "Потеря пользователя (потеря прибыли за 3 мес) - 2000\n",
    "\n",
    "|   | Churn  | Not churn  | \n",
    "|---|---|---|\n",
    "| Positive prediction  |  0 |  -200 | \n",
    "| Negative prediction  | -1000  | 0  | "
   ]
  },
  {
   "cell_type": "code",
   "execution_count": 202,
   "metadata": {},
   "outputs": [
    {
     "data": {
      "text/plain": [
       "(-200, -200, -1000, 0)"
      ]
     },
     "execution_count": 202,
     "metadata": {},
     "output_type": "execute_result"
    }
   ],
   "source": [
    "churn_fraction = 0.05\n",
    "\n",
    "uder_pols = -200\n",
    "churn_ev = -1000\n",
    "tp_ev = uder_pols\n",
    "fp_ev = uder_pols\n",
    "fn_ev = churn_ev\n",
    "tn_ev = 0\n",
    "\n",
    "(tp_ev, fp_ev, fn_ev, tn_ev)"
   ]
  },
  {
   "cell_type": "code",
   "execution_count": 199,
   "metadata": {},
   "outputs": [],
   "source": [
    "def EV_calc(tpr, fpr, thresholds, churn_fraction):\n",
    "    \n",
    "    EV_model = []\n",
    "    \n",
    "    for i in range(len(thresholds)):\n",
    "        ev = (tpr[i]*tp_ev + (1-tpr[i])*fn_ev)*churn_fraction + ((1-fpr[i])*tn_ev + fpr[i]*fp_ev)*(1-churn_fraction)\n",
    "        EV_model.append(ev)\n",
    "        \n",
    "    return EV_model"
   ]
  },
  {
   "cell_type": "code",
   "execution_count": 200,
   "metadata": {},
   "outputs": [],
   "source": [
    "EV_noModel = EV_calc([0], [0], [0.5], churn_fraction) # do nothing \n",
    "EV_model0 = EV_calc(tpr0, fpr0, thresholds0, churn_fraction)\n",
    "EV_model1 = EV_calc(tpr1, fpr1, thresholds1, churn_fraction)\n",
    "EV_idealModel = EV_calc([1], [0], [0.5], churn_fraction)\n",
    "EV_allKeep = EV_calc([churn_fraction], [1-churn_fraction], [0.5], churn_fraction) # all keep"
   ]
  },
  {
   "cell_type": "code",
   "execution_count": null,
   "metadata": {},
   "outputs": [],
   "source": []
  },
  {
   "cell_type": "code",
   "execution_count": 201,
   "metadata": {},
   "outputs": [
    {
     "name": "stdout",
     "output_type": "stream",
     "text": [
      "-50.0 -47.5 0.0 0.0 0.0\n"
     ]
    },
    {
     "data": {
      "image/png": "[encoded data removed]",
      "text/plain": [
       "<Figure size 1152x648 with 1 Axes>"
      ]
     },
     "metadata": {},
     "output_type": "display_data"
    }
   ],
   "source": [
    "plt.figure(figsize=(16,9))\n",
    "\n",
    "print(EV_noModel[0], EV_allKeep[0], EV_idealModel[0], np.max(EV_model0), np.max(EV_model1))\n",
    "\n",
    "plt.plot(thresholds0, EV_noModel[0]*np.ones(len(thresholds0)), label='No model (do nothing)')\n",
    "plt.plot(thresholds0, EV_allKeep[0]*np.ones(len(thresholds0)), label='No model (all keep)')\n",
    "plt.plot(thresholds0, EV_idealModel[0]*np.ones(len(thresholds0)), label='Ideal model')\n",
    "plt.plot(thresholds0, EV_model0, label='Model - 0')\n",
    "plt.plot(thresholds1, EV_model1, label='Model - 1')\n",
    "\n",
    "plt.legend()\n",
    "plt.grid()"
   ]
  },
  {
   "cell_type": "code",
   "execution_count": null,
   "metadata": {},
   "outputs": [],
   "source": []
  },
  {
   "cell_type": "code",
   "execution_count": null,
   "metadata": {},
   "outputs": [],
   "source": []
  }
 ],
 "metadata": {
  "kernelspec": {
   "display_name": "Python 3",
   "language": "python",
   "name": "python3"
  },
  "language_info": {
   "codemirror_mode": {
    "name": "ipython",
    "version": 3
   },
   "file_extension": ".py",
   "mimetype": "text/x-python",
   "name": "python",
   "nbconvert_exporter": "python",
   "pygments_lexer": "ipython3",
   "version": "3.5.5"
  }
 },
 "nbformat": 4,
 "nbformat_minor": 2
}
